{
 "cells": [
  {
   "cell_type": "markdown",
   "metadata": {
    "colab": {
     "base_uri": "https://localhost:8080/"
    },
    "id": "kpFKL8pFwt5k",
    "outputId": "f6d99302-8099-4e32-8500-ed7df52d2b51"
   },
   "source": [
    "## Import Necessary Libraries and set display options"
   ]
  },
  {
   "cell_type": "code",
   "execution_count": 1,
   "metadata": {},
   "outputs": [],
   "source": [
    "import numpy as np\n",
    "import pandas as pd\n",
    "pd.set_option('display.max_columns', 500)\n",
    "pd.set_option('display.max_colwidth', 400)"
   ]
  },
  {
   "cell_type": "markdown",
   "metadata": {},
   "source": [
    "## Import Data from all the sources"
   ]
  },
  {
   "cell_type": "code",
   "execution_count": null,
   "metadata": {},
   "outputs": [],
   "source": [
    "data_1 = pd.read_excel(\"file_1.xlsx\")\n",
    "data_2 = pd.read_csv(\"file_2.xlsx\")\n",
    "data_3 = pd.read_csv(\"file_3.csv\", low_memory=False, index_col=0)"
   ]
  },
  {
   "cell_type": "markdown",
   "metadata": {},
   "source": [
    "## Data Cleaning"
   ]
  },
  {
   "cell_type": "code",
   "execution_count": null,
   "metadata": {},
   "outputs": [],
   "source": [
    "# Add filters to get the right set of data \n",
    "data_3 = data_3[~(data_3[\"column_1\"]==13000)]\n",
    "data_3 = data_3.copy()\n",
    "data_3[\"columns_2\"] = data_3[\"column_2\"].fillna(\"others\")\n",
    "data_3 = data_3.copy()\n",
    "data_3.rename(columns={'First Name':'first_name'}, inplace=True)\n",
    "data_3.drop_duplicates(inplace=True)\n",
    "data_3 = data_3.copy()\n",
    "data_3.columns"
   ]
  },
  {
   "cell_type": "markdown",
   "metadata": {
    "id": "H_nt2qF40v39"
   },
   "source": [
    "## Into the Analysis"
   ]
  },
  {
   "cell_type": "markdown",
   "metadata": {
    "id": "BzuZf_xasIap"
   },
   "source": [
    "### Keywords for categories"
   ]
  },
  {
   "cell_type": "code",
   "execution_count": null,
   "metadata": {
    "id": "3GejrMZ6sIaq"
   },
   "outputs": [],
   "source": [
    "category_1 = [\"keyword_1\", \"keyword_2\", \"keyword_3\", \"keyword_4\"]\n",
    "category_2 = [\"keyword_5\", \"keyword_6\", \"keyword_7\", \"keyword_8\"]\n",
    "category_3 = [\"keyword_9\", \"keyword_10\", \"keyword_11\"]"
   ]
  },
  {
   "cell_type": "markdown",
   "metadata": {
    "id": "FV52Ky1QQ_6z"
   },
   "source": [
    "### Customer Feedback Selection"
   ]
  },
  {
   "cell_type": "code",
   "execution_count": null,
   "metadata": {
    "id": "_HFk2DxyRaAW"
   },
   "outputs": [],
   "source": [
    "mydata = data_3[data_3[\"text_sentiment\"].notna()]\n",
    "mydata = mydata.copy()\n",
    "mydata.drop_duplicates(inplace=True)\n",
    "mydata[\"column_5\"] = mydata[\"column_5\"].astype(int)\n",
    "mydata[\"analyzed_comment_type\"] = \"others\"\n",
    "mydata = mydata[mydata[\"f_created_by\"]==\"customer\"]"
   ]
  },
  {
   "cell_type": "markdown",
   "metadata": {
    "id": "Pdd4ksUEsIao"
   },
   "source": [
    "### Contradictory Sentiments and Star Ratings"
   ]
  },
  {
   "cell_type": "code",
   "execution_count": null,
   "metadata": {},
   "outputs": [],
   "source": [
    "for key, val in mydata[\"text_sentiment\"].value_counts().items():\n",
    "  print(f\"TOTAL {key} -> {round((val*100/len(mydata['text_sentiment'])))}\")\n",
    "\n",
    "print()\n",
    "print(f\"star_rating > 3: {round((len(mydata[mydata['star_rating']>3])*100/len(mydata)))}\")\n",
    "for key, val in mydata[mydata[\"star_rating\"]>3][\"text_sentiment\"].value_counts().items():\n",
    "  print(f\"{key} -> {round((val*100/len(mydata[mydata['star_rating']>3])))}\")\n",
    "\n",
    "print()\n",
    "print(f\"star_rating < 3: {round((len(mydata[mydata['star_rating']<3])*100/len(mydata)))}\")\n",
    "for key, val in mydata[mydata[\"star_rating\"]<3][\"text_sentiment\"].value_counts().items():\n",
    "  print(f\"{key} -> {round((val*100/len(mydata[mydata['star_rating']<3])))}\")\n",
    "\n",
    "print()\n",
    "print(f\"star_rating == 3: {round((len(mydata[mydata['star_rating']==3])*100/len(mydata)))}\")\n",
    "for key, val in mydata[mydata[\"star_rating\"]==3][\"text_sentiment\"].value_counts().items():\n",
    "  print(f\"{key} -> {round((val*100/len(mydata[mydata['star_rating']==3])))}\")"
   ]
  },
  {
   "cell_type": "markdown",
   "metadata": {},
   "source": [
    "#### Select the ratings with value 3"
   ]
  },
  {
   "cell_type": "code",
   "execution_count": null,
   "metadata": {},
   "outputs": [],
   "source": [
    "mydata[(mydata['star_rating']==3)][[\"column_1\", \"column_2\", \"column_3\", \"column_4\", \"star_rating\"]]"
   ]
  },
  {
   "cell_type": "markdown",
   "metadata": {
    "id": "tdtEU5ZsVtRv"
   },
   "source": [
    "### Classifying the comments here"
   ]
  },
  {
   "cell_type": "markdown",
   "metadata": {
    "id": "cS_OdFGVsIaq"
   },
   "source": [
    "#### Classifying the comments into Categories of `NEGATIVE COMPLAINTS`"
   ]
  },
  {
   "cell_type": "code",
   "execution_count": null,
   "metadata": {},
   "outputs": [],
   "source": [
    "mydata.loc[(mydata[\"clean_feedback_text\"].str.contains(\"|\".join(category_1))==True) & (mydata[\"text_sentiment\"]==\"NEGATIVE\"), \"analyzed_comment_type\"] = \"complaint_type_1\"\n",
    "mydata.loc[(mydata[\"clean_feedback_text\"].str.contains(\"|\".join(category_2))==True) & (mydata[\"text_sentiment\"]==\"NEGATIVE\"), \"analyzed_comment_type\"] = \"complaint_type_2\"\n",
    "mydata.loc[(mydata[\"clean_feedback_text\"].str.contains(\"|\".join(category_3))==True) & (mydata[\"text_sentiment\"]==\"NEGATIVE\"), \"analyzed_comment_type\"] = \"complaint_type_3\"\n",
    "\n",
    "negative_complaints = mydata[(mydata[\"column_1\"]==1) & (mydata[\"text_sentiment\"]==\"NEGATIVE\")][[\"column_1\", \"complaint_type\", \"clean_feedback_text\", \"analyzed_comment_type\", \"text_sentiment\"]]"
   ]
  },
  {
   "cell_type": "markdown",
   "metadata": {
    "id": "pkiZAcPvsIaq"
   },
   "source": [
    "#### Classifying the comments into Categories of `POSITIVE COMPLAINTS`"
   ]
  },
  {
   "cell_type": "code",
   "execution_count": null,
   "metadata": {},
   "outputs": [],
   "source": [
    "mydata.loc[(mydata[\"clean_feedback_text\"].str.contains(\"|\".join(category_1))==True) & (mydata[\"text_sentiment\"]==\"NEGATIVE\"), \"analyzed_comment_type\"] = \"complaint_type_1\"\n",
    "mydata.loc[(mydata[\"clean_feedback_text\"].str.contains(\"|\".join(category_2))==True) & (mydata[\"text_sentiment\"]==\"NEGATIVE\"), \"analyzed_comment_type\"] = \"complaint_type_2\"\n",
    "mydata.loc[(mydata[\"clean_feedback_text\"].str.contains(\"|\".join(category_3))==True) & (mydata[\"text_sentiment\"]==\"NEGATIVE\"), \"analyzed_comment_type\"] = \"complaint_type_3\"\n",
    "\n",
    "positive_complaints = mydata[(mydata[\"column_1\"]==1) & (mydata[\"text_sentiment\"]==\"POSITIVE\")][[\"column_1\", \"complaint_type\", \"clean_feedback_text\", \"analyzed_comment_type\", \"text_sentiment\"]]"
   ]
  },
  {
   "cell_type": "markdown",
   "metadata": {
    "id": "l6DQc9iHsIar"
   },
   "source": [
    "#### Classifying the comments into Categories of `POSITIVE NON-COMPLAINTS`"
   ]
  },
  {
   "cell_type": "code",
   "execution_count": null,
   "metadata": {},
   "outputs": [],
   "source": [
    "mydata.loc[(mydata[\"clean_feedback_text\"].str.contains(\"|\".join(category_1))==True) & (mydata[\"text_sentiment\"]==\"NEGATIVE\"), \"analyzed_comment_type\"] = \"complaint_type_1\"\n",
    "mydata.loc[(mydata[\"clean_feedback_text\"].str.contains(\"|\".join(category_2))==True) & (mydata[\"text_sentiment\"]==\"NEGATIVE\"), \"analyzed_comment_type\"] = \"complaint_type_2\"\n",
    "mydata.loc[(mydata[\"clean_feedback_text\"].str.contains(\"|\".join(category_3))==True) & (mydata[\"text_sentiment\"]==\"NEGATIVE\"), \"analyzed_comment_type\"] = \"complaint_type_3\"\n",
    "\n",
    "positive_non_complaints = mydata[(mydata[\"column_1\"]==1) & (mydata[\"text_sentiment\"]==\"POSITIVE\")][[\"column_1\", \"complaint_type\", \"clean_feedback_text\", \"analyzed_comment_type\", \"text_sentiment\"]]"
   ]
  },
  {
   "cell_type": "markdown",
   "metadata": {
    "id": "D-O6CXmTsIas"
   },
   "source": [
    "#### Classifying the comments into Categories of `NEGATIVE NON-COMPLAINTS`"
   ]
  },
  {
   "cell_type": "code",
   "execution_count": null,
   "metadata": {},
   "outputs": [],
   "source": [
    "negative_non_complaints = mydata[(mydata[\"column_1\"]==1) & (mydata[\"text_sentiment\"]==\"NEGATIVE\")][[\"column_1\", \"complaint_type\", \"clean_feedback_text\", \"analyzed_comment_type\", \"text_sentiment\"]]"
   ]
  },
  {
   "cell_type": "markdown",
   "metadata": {
    "id": "q2_yz-Q_eRt6"
   },
   "source": [
    "#### Distribution of categories in different conditions in data"
   ]
  },
  {
   "cell_type": "code",
   "execution_count": null,
   "metadata": {},
   "outputs": [],
   "source": [
    "print(\"**Comment Types for the NEGATIVE Complaints**\")\n",
    "for key, val in mydata[(mydata[\"column_1\"]==1) & (mydata[\"text_sentiment\"]==\"NEGATIVE\")][\"analyzed_comment_type\"].value_counts().items():\n",
    "  print(f\"{key} -> {round(val*100/len(mydata[(mydata['column_1']==1) & (mydata['text_sentiment']=='NEGATIVE')]['analyzed_comment_type']), 2)} %\")\n",
    "\n",
    "print()\n",
    "print(\"**Comment Types for the POSITIVE Complaints**\")\n",
    "for key, val in mydata[(mydata[\"column_1\"]==1) & (mydata[\"text_sentiment\"]==\"POSITIVE\")][\"analyzed_comment_type\"].value_counts().items():\n",
    "  print(f\"{key} -> {round(val*100/len(mydata[(mydata['column_1']==1) & (mydata['text_sentiment']=='POSITIVE')]['analyzed_comment_type']), 2)} %\")\n",
    "\n",
    "print()\n",
    "print(\"**Comment Types for the NEGATIVE NON-COMPLAINTS**\")\n",
    "for key, val in mydata[(mydata[\"column_1\"]==0) & (mydata[\"text_sentiment\"]==\"NEGATIVE\")][\"analyzed_comment_type\"].value_counts().items():\n",
    "  print(f\"{key} -> {round(val*100/len(mydata[(mydata['column_1']==0) & (mydata['text_sentiment']=='NEGATIVE')]['analyzed_comment_type']), 2)} %\")\n",
    "\n",
    "print()\n",
    "print(\"**Comment Types for the POSITIVE NON-COMPLAINTS**\")\n",
    "for key, val in mydata[(mydata[\"column_1\"]==0) & (mydata[\"text_sentiment\"]==\"POSITIVE\")][\"analyzed_comment_type\"].value_counts().items():\n",
    "  print(f\"{key} -> {round(val*100/len(mydata[(mydata['column_1']==0) & (mydata['text_sentiment']=='POSITIVE')]['analyzed_comment_type']), 2)} %\")"
   ]
  },
  {
   "cell_type": "markdown",
   "metadata": {
    "id": "CJW08Y1DeHS1"
   },
   "source": [
    "#### Entity having number of feedbacks in every category"
   ]
  },
  {
   "cell_type": "code",
   "execution_count": null,
   "metadata": {
    "id": "hrv3em2XbmGa"
   },
   "outputs": [],
   "source": [
    "non_complaints = [\"praise\", \"suggestion\", \"other\"]\n",
    "\n",
    "entity_analyzed_comment_counts = mydata.groupby([\"id\", \"name\", \"analyzed_comment_type\"]).apply(lambda x: x[\"analyzed_comment_type\"].count()).reset_index()\n",
    "entity_analyzed_comment_counts.columns = ['id', 'name', 'analyzed_comment_type', \"analyzed_comment_type_count\"]\n",
    "\n",
    "sorted_entity_comments1 = entity_analyzed_comment_counts.sort_values(\"analyzed_comment_type_count\", ascending=False)\n",
    "sorted_entity_comments = entity_analyzed_comment_counts[~entity_analyzed_comment_counts[\"analyzed_comment_type\"].str.contains(\"|\".join(non_complaints))].sort_values(\"analyzed_comment_type_count\", ascending=False)\n",
    "\n",
    "entity_overall_complaint_count = sorted_entity_comments.groupby([\"id\", \"name\"]).apply(lambda x: x[\"analyzed_comment_type_count\"].sum()).reset_index()\n",
    "entity_overall_complaint_count.columns = [\"id\", \"name\", \"complaints_count\"]\n",
    "entity_overall_complaint_count.sort_values(\"complaints_count\", ascending=False, inplace=True)\n",
    "\n",
    "entity_complaints = entity_overall_complaint_count.merge(data_2[[\"id\", \"Orders\"]], on='id', how='left')\n",
    "entity_complaints[\"complaint_percentage\"] = entity_complaints[\"complaints_count\"]*100/entity_complaints[\"Orders\"]\n",
    "entity_complaints = entity_complaints.sort_values(\"Orders\", ascending=False)\n",
    "\n",
    "min_entity_orders = entity_complaints[entity_complaints[\"Orders\"]>=3000]\n",
    "min_entity_orders = min_entity_orders.sort_values(\"complaint_percentage\", ascending=False)"
   ]
  },
  {
   "cell_type": "markdown",
   "metadata": {
    "id": "CQ1EhOlt-_O0"
   },
   "source": [
    "#### Charts of the Analysis"
   ]
  },
  {
   "cell_type": "code",
   "execution_count": null,
   "metadata": {
    "id": "5N5eEx98WjP-"
   },
   "outputs": [],
   "source": [
    "import matplotlib.pyplot as plt\n",
    "\n",
    "color_dict = {\n",
    "    \"NEGATIVE\": \"#d62728\",\n",
    "    \"POSITIVE\": \"#2ca02c\",\n",
    "    \"others\": \"tab:orange\",\n",
    "    \"category_1\": \"tab:green\",\n",
    "    \"category_2\": \"#ffb700\",\n",
    "    \"category_3\": \"tab:purple\"\n",
    "}\n",
    "\n",
    "def pie_chart_maker(data, labels, colors, title, figsize, fontsize):\n",
    "  plt.figure(figsize=figsize)\n",
    "  plt.rcParams.update({'font.size': fontsize})\n",
    "  plt.pie(data, autopct='%.1f%%', colors=colors)\n",
    "  plt.legend(title=title, labels=labels)\n",
    "  plt.show()\n",
    "\n",
    "\n",
    "def bar_chart_maker(x_names, y_names, xlabel, ylabel, title, figsize, fontsize, width=0.6):\n",
    "  plt.figure(figsize=figsize)\n",
    "  plt.bar(x_names, y_names, width=width)\n",
    "  plt.title(title, fontsize=fontsize)\n",
    "  plt.xlabel(xlabel, fontsize=fontsize)\n",
    "  plt.xticks(rotation=45, ha=\"right\")\n",
    "  plt.ylabel(ylabel, fontsize=fontsize)\n",
    "  plt.show()"
   ]
  },
  {
   "cell_type": "markdown",
   "metadata": {
    "id": "r6t8wrwR_D-l"
   },
   "source": [
    "#### Distribution of Positive and Negative Feedback"
   ]
  },
  {
   "cell_type": "code",
   "execution_count": null,
   "metadata": {},
   "outputs": [],
   "source": [
    "data = mydata[\"text_sentiment\"].value_counts()\n",
    "labels = dict(data).keys()\n",
    "chart_colors = [color_dict[key] for key in labels]\n",
    "labels = [text.replace(\"_\", \" \").title() for text in labels]\n",
    "title = \"Sentiments\"\n",
    "figsize = (10, 8)\n",
    "fontsize = 14\n",
    "\n",
    "pie_chart_maker(data, labels, chart_colors, title, figsize, fontsize)"
   ]
  },
  {
   "cell_type": "markdown",
   "metadata": {
    "id": "BZ_2SXfj_KSj"
   },
   "source": [
    "#### Relation between Star Ratings and Sentiments"
   ]
  },
  {
   "cell_type": "code",
   "execution_count": null,
   "metadata": {},
   "outputs": [],
   "source": [
    "srg3 = dict(mydata[mydata[\"star_rating\"]>3][\"text_sentiment\"].value_counts())\n",
    "srl3 = dict(mydata[mydata[\"star_rating\"]<3][\"text_sentiment\"].value_counts())\n",
    "sre3 = dict(mydata[mydata[\"star_rating\"]==3][\"text_sentiment\"].value_counts())\n",
    "\n",
    "col1 = \"Star Rating > 3\"\n",
    "col2 = \"Star Rating < 3\"\n",
    "col3 = \"Star Rating = 3\"\n",
    "\n",
    "dictt = {\n",
    "    col1: [],\n",
    "    col2: [],\n",
    "    col3: []\n",
    "}\n",
    "\n",
    "sentis = [\"POSITIVE\", \"NEGATIVE\"]\n",
    "\n",
    "for key1, key2, key3, senti in zip(srg3.items(), srl3.items(), sre3.items(), sentis):\n",
    "  dictt[col1].append(srg3[senti])\n",
    "  dictt[col2].append(srl3[senti])\n",
    "  dictt[col3].append(sre3[senti])\n",
    "\n",
    "stardf =  pd.DataFrame(\n",
    "              dictt, index=sentis\n",
    "          ).T\n",
    "\n",
    "\n",
    "stardf.plot(kind=\"bar\", color=[color_dict[\"POSITIVE\"], color_dict[\"NEGATIVE\"]])\n",
    "# plt.title(\"Star Rating vs Sentiment\")\n",
    "plt.xlabel(\"Star Rating\")\n",
    "plt.xticks(rotation=45, ha=\"right\")\n",
    "plt.ylabel(\"Sentiment\")"
   ]
  },
  {
   "cell_type": "markdown",
   "metadata": {
    "id": "Fao7PtEfJC-P"
   },
   "source": [
    "#### Comment Types for the NEGATIVE Complaints"
   ]
  },
  {
   "cell_type": "code",
   "execution_count": null,
   "metadata": {},
   "outputs": [],
   "source": [
    "data = mydata[(mydata[\"column_1\"]==1) & (mydata[\"text_sentiment\"]==\"NEGATIVE\")][\"analyzed_comment_type\"].value_counts()\n",
    "labels = dict(data).keys()\n",
    "chart_colors = [color_dict[key] for key in labels]\n",
    "labels = [text.replace(\"_\", \" \").title() for text in labels]\n",
    "title = \"Negative Complaints\"\n",
    "figsize = (20, 29)\n",
    "fontsize = 16\n",
    "\n",
    "pie_chart_maker(data, labels, chart_colors, title, figsize, fontsize)"
   ]
  },
  {
   "cell_type": "markdown",
   "metadata": {
    "id": "B-xPOVTWJEBR"
   },
   "source": [
    "#### Comment Types for the POSITIVE Complaints"
   ]
  },
  {
   "cell_type": "code",
   "execution_count": null,
   "metadata": {},
   "outputs": [],
   "source": [
    "data = mydata[(mydata[\"column_1\"]==1) & (mydata[\"text_sentiment\"]==\"POSITIVE\")][\"analyzed_comment_type\"].value_counts()\n",
    "labels = dict(data).keys()\n",
    "chart_colors = [color_dict[key] for key in labels]\n",
    "labels = [text.replace(\"_\", \" \").title() for text in labels]\n",
    "title = \"Positive Complaints\"\n",
    "figsize = (20, 29)\n",
    "fontsize = 16\n",
    "\n",
    "pie_chart_maker(data, labels, chart_colors, title, figsize, fontsize)"
   ]
  },
  {
   "cell_type": "markdown",
   "metadata": {
    "id": "B3o4slz8JGMO"
   },
   "source": [
    "#### Comment Types for the NEGATIVE NON-COMPLAINTS"
   ]
  },
  {
   "cell_type": "code",
   "execution_count": null,
   "metadata": {},
   "outputs": [],
   "source": [
    "data = mydata[(mydata[\"column_1\"]==0) & (mydata[\"text_sentiment\"]==\"NEGATIVE\")][\"analyzed_comment_type\"].value_counts()\n",
    "labels = dict(data).keys()\n",
    "chart_colors = [color_dict[key] for key in labels]\n",
    "labels = [text.replace(\"_\", \" \").title() for text in labels]\n",
    "title = \"Negative Non-Complaints\"\n",
    "figsize = (20, 29)\n",
    "fontsize = 16\n",
    "\n",
    "pie_chart_maker(data, labels, chart_colors, title, figsize, fontsize)"
   ]
  },
  {
   "cell_type": "markdown",
   "metadata": {
    "id": "-OL5zSF7JLHj"
   },
   "source": [
    "#### Comment Types for the POSITIVE NON-COMPLAINTS"
   ]
  },
  {
   "cell_type": "code",
   "execution_count": null,
   "metadata": {
    "id": "B9ws8_8-_bRk"
   },
   "outputs": [],
   "source": [
    "data = mydata[(mydata[\"column_1\"]==0) & (mydata[\"text_sentiment\"]==\"POSITIVE\")][\"analyzed_comment_type\"].value_counts()\n",
    "labels = dict(data).keys()\n",
    "chart_colors = [color_dict[key] for key in labels]\n",
    "labels = [text.replace(\"_\", \" \").title() for text in labels]\n",
    "title = \"Positive Non-Complaints\"\n",
    "figsize = (20, 29)\n",
    "fontsize = 16\n",
    "\n",
    "pie_chart_maker(data, labels, chart_colors, title, figsize, fontsize)"
   ]
  }
 ],
 "metadata": {
  "colab": {
   "collapsed_sections": [
    "FV52Ky1QQ_6z",
    "D-O6CXmTsIas",
    "CJW08Y1DeHS1",
    "SCE0vKz9OlFh",
    "PRIvR7T-RLzM",
    "YJ86Wl9dRLzN"
   ],
   "provenance": []
  },
  "kernelspec": {
   "display_name": "Python 3 (ipykernel)",
   "language": "python",
   "name": "python3"
  },
  "language_info": {
   "codemirror_mode": {
    "name": "ipython",
    "version": 3
   },
   "file_extension": ".py",
   "mimetype": "text/x-python",
   "name": "python",
   "nbconvert_exporter": "python",
   "pygments_lexer": "ipython3",
   "version": "3.10.5"
  }
 },
 "nbformat": 4,
 "nbformat_minor": 1
}
